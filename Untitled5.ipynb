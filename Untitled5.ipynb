{
  "nbformat": 4,
  "nbformat_minor": 0,
  "metadata": {
    "colab": {
      "provenance": []
    },
    "kernelspec": {
      "name": "python3",
      "display_name": "Python 3"
    },
    "language_info": {
      "name": "python"
    }
  },
  "cells": [
    {
      "cell_type": "code",
      "execution_count": 59,
      "metadata": {
        "id": "IPqyt5cLPC32"
      },
      "outputs": [],
      "source": [
        "\n",
        "import pandas as pd\n",
        "import numpy as np\n",
        "import seaborn as sns\n",
        "import matplotlib.pyplot as plt\n",
        "from sklearn.model_selection import train_test_split\n",
        "from sklearn.ensemble import RandomForestClassifier\n",
        "from sklearn.metrics import classification_report, confusion_matrix\n",
        "from imblearn.over_sampling import SMOTE\n",
        "from imblearn.under_sampling import RandomUnderSampler\n",
        "from imblearn.pipeline import Pipeline"
      ]
    },
    {
      "cell_type": "code",
      "source": [
        "data = pd.read_csv('/content/in-vehicle-coupon-recommendation.csv')"
      ],
      "metadata": {
        "id": "tB7kz2O_Vkbm"
      },
      "execution_count": 26,
      "outputs": []
    },
    {
      "cell_type": "code",
      "source": [
        "# pure columns display honge\n",
        "print(data.columns)"
      ],
      "metadata": {
        "colab": {
          "base_uri": "https://localhost:8080/"
        },
        "id": "4CotAFvFpyKM",
        "outputId": "ef112911-2256-477c-9d68-597b891f4b01"
      },
      "execution_count": 27,
      "outputs": [
        {
          "output_type": "stream",
          "name": "stdout",
          "text": [
            "Index(['destination', 'passanger', 'weather', 'temperature', 'time', 'coupon',\n",
            "       'expiration', 'gender', 'age', 'maritalStatus', 'has_children',\n",
            "       'education', 'occupation', 'income', 'car', 'Bar', 'CoffeeHouse',\n",
            "       'CarryAway', 'RestaurantLessThan20', 'Restaurant20To50',\n",
            "       'toCoupon_GEQ5min', 'toCoupon_GEQ15min', 'toCoupon_GEQ25min',\n",
            "       'direction_same', 'direction_opp', 'Y'],\n",
            "      dtype='object')\n"
          ]
        }
      ]
    },
    {
      "cell_type": "code",
      "source": [
        "\n",
        "data.head()"
      ],
      "metadata": {
        "colab": {
          "base_uri": "https://localhost:8080/",
          "height": 342
        },
        "id": "iYajCogXVksT",
        "outputId": "067d8102-c579-4c32-8a30-67cec0be4a1c"
      },
      "execution_count": 60,
      "outputs": [
        {
          "output_type": "execute_result",
          "data": {
            "text/plain": [
              "       destination  passanger weather  temperature  time  \\\n",
              "0  No Urgent Place      Alone   Sunny           55   2PM   \n",
              "1  No Urgent Place  Friend(s)   Sunny           80  10AM   \n",
              "2  No Urgent Place  Friend(s)   Sunny           80  10AM   \n",
              "3  No Urgent Place  Friend(s)   Sunny           80   2PM   \n",
              "4  No Urgent Place  Friend(s)   Sunny           80   2PM   \n",
              "\n",
              "                  coupon expiration  gender age      maritalStatus  ...  \\\n",
              "0        Restaurant(<20)         1d  Female  21  Unmarried partner  ...   \n",
              "1           Coffee House         2h  Female  21  Unmarried partner  ...   \n",
              "2  Carry out & Take away         2h  Female  21  Unmarried partner  ...   \n",
              "3           Coffee House         2h  Female  21  Unmarried partner  ...   \n",
              "4           Coffee House         1d  Female  21  Unmarried partner  ...   \n",
              "\n",
              "   CoffeeHouse CarryAway RestaurantLessThan20 Restaurant20To50  \\\n",
              "0        never       NaN                  4~8              1~3   \n",
              "1        never       NaN                  4~8              1~3   \n",
              "2        never       NaN                  4~8              1~3   \n",
              "3        never       NaN                  4~8              1~3   \n",
              "4        never       NaN                  4~8              1~3   \n",
              "\n",
              "  toCoupon_GEQ5min toCoupon_GEQ15min toCoupon_GEQ25min direction_same  \\\n",
              "0                1                 0                 0              0   \n",
              "1                1                 0                 0              0   \n",
              "2                1                 1                 0              0   \n",
              "3                1                 1                 0              0   \n",
              "4                1                 1                 0              0   \n",
              "\n",
              "  direction_opp  Y  \n",
              "0             1  1  \n",
              "1             1  0  \n",
              "2             1  1  \n",
              "3             1  0  \n",
              "4             1  0  \n",
              "\n",
              "[5 rows x 26 columns]"
            ],
            "text/html": [
              "\n",
              "  <div id=\"df-d3e73a40-3b9a-453e-b1be-d6000e50e819\" class=\"colab-df-container\">\n",
              "    <div>\n",
              "<style scoped>\n",
              "    .dataframe tbody tr th:only-of-type {\n",
              "        vertical-align: middle;\n",
              "    }\n",
              "\n",
              "    .dataframe tbody tr th {\n",
              "        vertical-align: top;\n",
              "    }\n",
              "\n",
              "    .dataframe thead th {\n",
              "        text-align: right;\n",
              "    }\n",
              "</style>\n",
              "<table border=\"1\" class=\"dataframe\">\n",
              "  <thead>\n",
              "    <tr style=\"text-align: right;\">\n",
              "      <th></th>\n",
              "      <th>destination</th>\n",
              "      <th>passanger</th>\n",
              "      <th>weather</th>\n",
              "      <th>temperature</th>\n",
              "      <th>time</th>\n",
              "      <th>coupon</th>\n",
              "      <th>expiration</th>\n",
              "      <th>gender</th>\n",
              "      <th>age</th>\n",
              "      <th>maritalStatus</th>\n",
              "      <th>...</th>\n",
              "      <th>CoffeeHouse</th>\n",
              "      <th>CarryAway</th>\n",
              "      <th>RestaurantLessThan20</th>\n",
              "      <th>Restaurant20To50</th>\n",
              "      <th>toCoupon_GEQ5min</th>\n",
              "      <th>toCoupon_GEQ15min</th>\n",
              "      <th>toCoupon_GEQ25min</th>\n",
              "      <th>direction_same</th>\n",
              "      <th>direction_opp</th>\n",
              "      <th>Y</th>\n",
              "    </tr>\n",
              "  </thead>\n",
              "  <tbody>\n",
              "    <tr>\n",
              "      <th>0</th>\n",
              "      <td>No Urgent Place</td>\n",
              "      <td>Alone</td>\n",
              "      <td>Sunny</td>\n",
              "      <td>55</td>\n",
              "      <td>2PM</td>\n",
              "      <td>Restaurant(&lt;20)</td>\n",
              "      <td>1d</td>\n",
              "      <td>Female</td>\n",
              "      <td>21</td>\n",
              "      <td>Unmarried partner</td>\n",
              "      <td>...</td>\n",
              "      <td>never</td>\n",
              "      <td>NaN</td>\n",
              "      <td>4~8</td>\n",
              "      <td>1~3</td>\n",
              "      <td>1</td>\n",
              "      <td>0</td>\n",
              "      <td>0</td>\n",
              "      <td>0</td>\n",
              "      <td>1</td>\n",
              "      <td>1</td>\n",
              "    </tr>\n",
              "    <tr>\n",
              "      <th>1</th>\n",
              "      <td>No Urgent Place</td>\n",
              "      <td>Friend(s)</td>\n",
              "      <td>Sunny</td>\n",
              "      <td>80</td>\n",
              "      <td>10AM</td>\n",
              "      <td>Coffee House</td>\n",
              "      <td>2h</td>\n",
              "      <td>Female</td>\n",
              "      <td>21</td>\n",
              "      <td>Unmarried partner</td>\n",
              "      <td>...</td>\n",
              "      <td>never</td>\n",
              "      <td>NaN</td>\n",
              "      <td>4~8</td>\n",
              "      <td>1~3</td>\n",
              "      <td>1</td>\n",
              "      <td>0</td>\n",
              "      <td>0</td>\n",
              "      <td>0</td>\n",
              "      <td>1</td>\n",
              "      <td>0</td>\n",
              "    </tr>\n",
              "    <tr>\n",
              "      <th>2</th>\n",
              "      <td>No Urgent Place</td>\n",
              "      <td>Friend(s)</td>\n",
              "      <td>Sunny</td>\n",
              "      <td>80</td>\n",
              "      <td>10AM</td>\n",
              "      <td>Carry out &amp; Take away</td>\n",
              "      <td>2h</td>\n",
              "      <td>Female</td>\n",
              "      <td>21</td>\n",
              "      <td>Unmarried partner</td>\n",
              "      <td>...</td>\n",
              "      <td>never</td>\n",
              "      <td>NaN</td>\n",
              "      <td>4~8</td>\n",
              "      <td>1~3</td>\n",
              "      <td>1</td>\n",
              "      <td>1</td>\n",
              "      <td>0</td>\n",
              "      <td>0</td>\n",
              "      <td>1</td>\n",
              "      <td>1</td>\n",
              "    </tr>\n",
              "    <tr>\n",
              "      <th>3</th>\n",
              "      <td>No Urgent Place</td>\n",
              "      <td>Friend(s)</td>\n",
              "      <td>Sunny</td>\n",
              "      <td>80</td>\n",
              "      <td>2PM</td>\n",
              "      <td>Coffee House</td>\n",
              "      <td>2h</td>\n",
              "      <td>Female</td>\n",
              "      <td>21</td>\n",
              "      <td>Unmarried partner</td>\n",
              "      <td>...</td>\n",
              "      <td>never</td>\n",
              "      <td>NaN</td>\n",
              "      <td>4~8</td>\n",
              "      <td>1~3</td>\n",
              "      <td>1</td>\n",
              "      <td>1</td>\n",
              "      <td>0</td>\n",
              "      <td>0</td>\n",
              "      <td>1</td>\n",
              "      <td>0</td>\n",
              "    </tr>\n",
              "    <tr>\n",
              "      <th>4</th>\n",
              "      <td>No Urgent Place</td>\n",
              "      <td>Friend(s)</td>\n",
              "      <td>Sunny</td>\n",
              "      <td>80</td>\n",
              "      <td>2PM</td>\n",
              "      <td>Coffee House</td>\n",
              "      <td>1d</td>\n",
              "      <td>Female</td>\n",
              "      <td>21</td>\n",
              "      <td>Unmarried partner</td>\n",
              "      <td>...</td>\n",
              "      <td>never</td>\n",
              "      <td>NaN</td>\n",
              "      <td>4~8</td>\n",
              "      <td>1~3</td>\n",
              "      <td>1</td>\n",
              "      <td>1</td>\n",
              "      <td>0</td>\n",
              "      <td>0</td>\n",
              "      <td>1</td>\n",
              "      <td>0</td>\n",
              "    </tr>\n",
              "  </tbody>\n",
              "</table>\n",
              "<p>5 rows × 26 columns</p>\n",
              "</div>\n",
              "    <div class=\"colab-df-buttons\">\n",
              "\n",
              "  <div class=\"colab-df-container\">\n",
              "    <button class=\"colab-df-convert\" onclick=\"convertToInteractive('df-d3e73a40-3b9a-453e-b1be-d6000e50e819')\"\n",
              "            title=\"Convert this dataframe to an interactive table.\"\n",
              "            style=\"display:none;\">\n",
              "\n",
              "  <svg xmlns=\"http://www.w3.org/2000/svg\" height=\"24px\" viewBox=\"0 -960 960 960\">\n",
              "    <path d=\"M120-120v-720h720v720H120Zm60-500h600v-160H180v160Zm220 220h160v-160H400v160Zm0 220h160v-160H400v160ZM180-400h160v-160H180v160Zm440 0h160v-160H620v160ZM180-180h160v-160H180v160Zm440 0h160v-160H620v160Z\"/>\n",
              "  </svg>\n",
              "    </button>\n",
              "\n",
              "  <style>\n",
              "    .colab-df-container {\n",
              "      display:flex;\n",
              "      gap: 12px;\n",
              "    }\n",
              "\n",
              "    .colab-df-convert {\n",
              "      background-color: #E8F0FE;\n",
              "      border: none;\n",
              "      border-radius: 50%;\n",
              "      cursor: pointer;\n",
              "      display: none;\n",
              "      fill: #1967D2;\n",
              "      height: 32px;\n",
              "      padding: 0 0 0 0;\n",
              "      width: 32px;\n",
              "    }\n",
              "\n",
              "    .colab-df-convert:hover {\n",
              "      background-color: #E2EBFA;\n",
              "      box-shadow: 0px 1px 2px rgba(60, 64, 67, 0.3), 0px 1px 3px 1px rgba(60, 64, 67, 0.15);\n",
              "      fill: #174EA6;\n",
              "    }\n",
              "\n",
              "    .colab-df-buttons div {\n",
              "      margin-bottom: 4px;\n",
              "    }\n",
              "\n",
              "    [theme=dark] .colab-df-convert {\n",
              "      background-color: #3B4455;\n",
              "      fill: #D2E3FC;\n",
              "    }\n",
              "\n",
              "    [theme=dark] .colab-df-convert:hover {\n",
              "      background-color: #434B5C;\n",
              "      box-shadow: 0px 1px 3px 1px rgba(0, 0, 0, 0.15);\n",
              "      filter: drop-shadow(0px 1px 2px rgba(0, 0, 0, 0.3));\n",
              "      fill: #FFFFFF;\n",
              "    }\n",
              "  </style>\n",
              "\n",
              "    <script>\n",
              "      const buttonEl =\n",
              "        document.querySelector('#df-d3e73a40-3b9a-453e-b1be-d6000e50e819 button.colab-df-convert');\n",
              "      buttonEl.style.display =\n",
              "        google.colab.kernel.accessAllowed ? 'block' : 'none';\n",
              "\n",
              "      async function convertToInteractive(key) {\n",
              "        const element = document.querySelector('#df-d3e73a40-3b9a-453e-b1be-d6000e50e819');\n",
              "        const dataTable =\n",
              "          await google.colab.kernel.invokeFunction('convertToInteractive',\n",
              "                                                    [key], {});\n",
              "        if (!dataTable) return;\n",
              "\n",
              "        const docLinkHtml = 'Like what you see? Visit the ' +\n",
              "          '<a target=\"_blank\" href=https://colab.research.google.com/notebooks/data_table.ipynb>data table notebook</a>'\n",
              "          + ' to learn more about interactive tables.';\n",
              "        element.innerHTML = '';\n",
              "        dataTable['output_type'] = 'display_data';\n",
              "        await google.colab.output.renderOutput(dataTable, element);\n",
              "        const docLink = document.createElement('div');\n",
              "        docLink.innerHTML = docLinkHtml;\n",
              "        element.appendChild(docLink);\n",
              "      }\n",
              "    </script>\n",
              "  </div>\n",
              "\n",
              "\n",
              "<div id=\"df-353648c3-24f2-406e-a4ac-4223305d8b57\">\n",
              "  <button class=\"colab-df-quickchart\" onclick=\"quickchart('df-353648c3-24f2-406e-a4ac-4223305d8b57')\"\n",
              "            title=\"Suggest charts\"\n",
              "            style=\"display:none;\">\n",
              "\n",
              "<svg xmlns=\"http://www.w3.org/2000/svg\" height=\"24px\"viewBox=\"0 0 24 24\"\n",
              "     width=\"24px\">\n",
              "    <g>\n",
              "        <path d=\"M19 3H5c-1.1 0-2 .9-2 2v14c0 1.1.9 2 2 2h14c1.1 0 2-.9 2-2V5c0-1.1-.9-2-2-2zM9 17H7v-7h2v7zm4 0h-2V7h2v10zm4 0h-2v-4h2v4z\"/>\n",
              "    </g>\n",
              "</svg>\n",
              "  </button>\n",
              "\n",
              "<style>\n",
              "  .colab-df-quickchart {\n",
              "      --bg-color: #E8F0FE;\n",
              "      --fill-color: #1967D2;\n",
              "      --hover-bg-color: #E2EBFA;\n",
              "      --hover-fill-color: #174EA6;\n",
              "      --disabled-fill-color: #AAA;\n",
              "      --disabled-bg-color: #DDD;\n",
              "  }\n",
              "\n",
              "  [theme=dark] .colab-df-quickchart {\n",
              "      --bg-color: #3B4455;\n",
              "      --fill-color: #D2E3FC;\n",
              "      --hover-bg-color: #434B5C;\n",
              "      --hover-fill-color: #FFFFFF;\n",
              "      --disabled-bg-color: #3B4455;\n",
              "      --disabled-fill-color: #666;\n",
              "  }\n",
              "\n",
              "  .colab-df-quickchart {\n",
              "    background-color: var(--bg-color);\n",
              "    border: none;\n",
              "    border-radius: 50%;\n",
              "    cursor: pointer;\n",
              "    display: none;\n",
              "    fill: var(--fill-color);\n",
              "    height: 32px;\n",
              "    padding: 0;\n",
              "    width: 32px;\n",
              "  }\n",
              "\n",
              "  .colab-df-quickchart:hover {\n",
              "    background-color: var(--hover-bg-color);\n",
              "    box-shadow: 0 1px 2px rgba(60, 64, 67, 0.3), 0 1px 3px 1px rgba(60, 64, 67, 0.15);\n",
              "    fill: var(--button-hover-fill-color);\n",
              "  }\n",
              "\n",
              "  .colab-df-quickchart-complete:disabled,\n",
              "  .colab-df-quickchart-complete:disabled:hover {\n",
              "    background-color: var(--disabled-bg-color);\n",
              "    fill: var(--disabled-fill-color);\n",
              "    box-shadow: none;\n",
              "  }\n",
              "\n",
              "  .colab-df-spinner {\n",
              "    border: 2px solid var(--fill-color);\n",
              "    border-color: transparent;\n",
              "    border-bottom-color: var(--fill-color);\n",
              "    animation:\n",
              "      spin 1s steps(1) infinite;\n",
              "  }\n",
              "\n",
              "  @keyframes spin {\n",
              "    0% {\n",
              "      border-color: transparent;\n",
              "      border-bottom-color: var(--fill-color);\n",
              "      border-left-color: var(--fill-color);\n",
              "    }\n",
              "    20% {\n",
              "      border-color: transparent;\n",
              "      border-left-color: var(--fill-color);\n",
              "      border-top-color: var(--fill-color);\n",
              "    }\n",
              "    30% {\n",
              "      border-color: transparent;\n",
              "      border-left-color: var(--fill-color);\n",
              "      border-top-color: var(--fill-color);\n",
              "      border-right-color: var(--fill-color);\n",
              "    }\n",
              "    40% {\n",
              "      border-color: transparent;\n",
              "      border-right-color: var(--fill-color);\n",
              "      border-top-color: var(--fill-color);\n",
              "    }\n",
              "    60% {\n",
              "      border-color: transparent;\n",
              "      border-right-color: var(--fill-color);\n",
              "    }\n",
              "    80% {\n",
              "      border-color: transparent;\n",
              "      border-right-color: var(--fill-color);\n",
              "      border-bottom-color: var(--fill-color);\n",
              "    }\n",
              "    90% {\n",
              "      border-color: transparent;\n",
              "      border-bottom-color: var(--fill-color);\n",
              "    }\n",
              "  }\n",
              "</style>\n",
              "\n",
              "  <script>\n",
              "    async function quickchart(key) {\n",
              "      const quickchartButtonEl =\n",
              "        document.querySelector('#' + key + ' button');\n",
              "      quickchartButtonEl.disabled = true;  // To prevent multiple clicks.\n",
              "      quickchartButtonEl.classList.add('colab-df-spinner');\n",
              "      try {\n",
              "        const charts = await google.colab.kernel.invokeFunction(\n",
              "            'suggestCharts', [key], {});\n",
              "      } catch (error) {\n",
              "        console.error('Error during call to suggestCharts:', error);\n",
              "      }\n",
              "      quickchartButtonEl.classList.remove('colab-df-spinner');\n",
              "      quickchartButtonEl.classList.add('colab-df-quickchart-complete');\n",
              "    }\n",
              "    (() => {\n",
              "      let quickchartButtonEl =\n",
              "        document.querySelector('#df-353648c3-24f2-406e-a4ac-4223305d8b57 button');\n",
              "      quickchartButtonEl.style.display =\n",
              "        google.colab.kernel.accessAllowed ? 'block' : 'none';\n",
              "    })();\n",
              "  </script>\n",
              "</div>\n",
              "\n",
              "    </div>\n",
              "  </div>\n"
            ],
            "application/vnd.google.colaboratory.intrinsic+json": {
              "type": "dataframe",
              "variable_name": "data"
            }
          },
          "metadata": {},
          "execution_count": 60
        }
      ]
    },
    {
      "cell_type": "code",
      "source": [
        "# target variable\n",
        "target_column = 'Y'\n",
        "sns.countplot(x=target_column, data=data)\n",
        "plt.title('Class Distribution')\n",
        "plt.show()\n",
        "\n",
        "print(data[target_column].value_counts())"
      ],
      "metadata": {
        "colab": {
          "base_uri": "https://localhost:8080/",
          "height": 541
        },
        "id": "0aAx4e0TXD69",
        "outputId": "e2756351-8da9-4e90-93c0-98ebad324472"
      },
      "execution_count": 29,
      "outputs": [
        {
          "output_type": "display_data",
          "data": {
            "text/plain": [
              "<Figure size 640x480 with 1 Axes>"
            ],
            "image/png": "[encoded data removed]"
          },
          "metadata": {}
        },
        {
          "output_type": "stream",
          "name": "stdout",
          "text": [
            "Y\n",
            "1    7210\n",
            "0    5474\n",
            "Name: count, dtype: int64\n"
          ]
        }
      ]
    },
    {
      "cell_type": "code",
      "source": [
        "#target or  features\n",
        "X = data.drop(columns=[target_column])\n",
        "y = data[target_column]\n",
        "#data ko split kiya\n",
        "X_train, X_test, y_train, y_test = train_test_split(X, y, test_size=0.3, random_state=42)\n"
      ],
      "metadata": {
        "id": "5o98phQ0VkvL"
      },
      "execution_count": 61,
      "outputs": []
    },
    {
      "cell_type": "code",
      "source": [
        "\n",
        "non_numeric_column = X_train.select_dtypes(include=['object', 'category']).columns\n",
        "print(\"Non-numeric columns:\", non_numeric_column)\n",
        "\n",
        "#non numeric values ko check krega\n",
        "for col in non_numeric_column:\n",
        "    print(f\"Unique values in {col}:\", X_train[col].unique())\n"
      ],
      "metadata": {
        "colab": {
          "base_uri": "https://localhost:8080/"
        },
        "id": "jLrvsimdwjLm",
        "outputId": "e9bc3435-1d53-437b-e9af-00a78f8e94c1"
      },
      "execution_count": 63,
      "outputs": [
        {
          "output_type": "stream",
          "name": "stdout",
          "text": [
            "Non-numeric columns: Index(['destination', 'passanger', 'weather', 'time', 'coupon', 'expiration',\n",
            "       'gender', 'age', 'maritalStatus', 'education', 'occupation', 'income',\n",
            "       'car', 'Bar', 'CoffeeHouse', 'CarryAway', 'RestaurantLessThan20',\n",
            "       'Restaurant20To50'],\n",
            "      dtype='object')\n",
            "Unique values in destination: ['No Urgent Place' 'Work' 'Home']\n",
            "Unique values in passanger: ['Friend(s)' 'Alone' 'Partner' 'Kid(s)']\n",
            "Unique values in weather: ['Sunny' 'Snowy' 'Rainy']\n",
            "Unique values in time: ['2PM' '7AM' '10AM' '10PM' '6PM']\n",
            "Unique values in coupon: ['Carry out & Take away' 'Restaurant(20-50)' 'Coffee House' 'Bar'\n",
            " 'Restaurant(<20)']\n",
            "Unique values in expiration: ['1d' '2h']\n",
            "Unique values in gender: ['Female' 'Male']\n",
            "Unique values in age: ['21' '26' '50plus' '31' '46' '36' '41' 'below21']\n",
            "Unique values in maritalStatus: ['Single' 'Unmarried partner' 'Married partner' 'Divorced' 'Widowed']\n",
            "Unique values in education: ['Some college - no degree' 'Bachelors degree' 'Associates degree'\n",
            " 'Graduate degree (Masters or Doctorate)' 'Some High School'\n",
            " 'High School Graduate']\n",
            "Unique values in occupation: ['Sales & Related' 'Personal Care & Service' 'Management'\n",
            " 'Community & Social Services' 'Office & Administrative Support' 'Retired'\n",
            " 'Education&Training&Library' 'Computer & Mathematical'\n",
            " 'Architecture & Engineering' 'Life Physical Social Science'\n",
            " 'Production Occupations' 'Transportation & Material Moving'\n",
            " 'Food Preparation & Serving Related'\n",
            " 'Arts Design Entertainment Sports & Media' 'Unemployed' 'Legal' 'Student'\n",
            " 'Healthcare Practitioners & Technical' 'Protective Service'\n",
            " 'Installation Maintenance & Repair' 'Business & Financial'\n",
            " 'Building & Grounds Cleaning & Maintenance' 'Healthcare Support'\n",
            " 'Construction & Extraction' 'Farming Fishing & Forestry']\n",
            "Unique values in income: ['$12500 - $24999' '$75000 - $87499' '$100000 or More' '$50000 - $62499'\n",
            " '$37500 - $49999' '$25000 - $37499' 'Less than $12500' '$87500 - $99999'\n",
            " '$62500 - $74999']\n",
            "Unique values in car: [nan 'crossover' 'do not drive' 'Scooter and motorcycle' 'Mazda5'\n",
            " 'Car that is too old to install Onstar :D']\n",
            "Unique values in Bar: ['never' 'gt8' 'less1' '1~3' '4~8' nan]\n",
            "Unique values in CoffeeHouse: ['4~8' 'never' 'less1' '1~3' 'gt8' nan]\n",
            "Unique values in CarryAway: ['4~8' '1~3' 'gt8' 'less1' nan 'never']\n",
            "Unique values in RestaurantLessThan20: ['4~8' '1~3' 'less1' 'gt8' nan 'never']\n",
            "Unique values in Restaurant20To50: ['never' '1~3' 'less1' '4~8' nan 'gt8']\n"
          ]
        }
      ]
    },
    {
      "cell_type": "code",
      "source": [
        "# Check for missing values\n",
        "print(\" training data:\\n\", X_train.isnull().sum())\n",
        "print(\"test data:\\n\", X_test.isnull().sum())\n"
      ],
      "metadata": {
        "colab": {
          "base_uri": "https://localhost:8080/"
        },
        "id": "4HxEDWZBwm_c",
        "outputId": "9aff552e-6a69-4ba0-c932-9cecbaf295d9"
      },
      "execution_count": 76,
      "outputs": [
        {
          "output_type": "stream",
          "name": "stdout",
          "text": [
            " training data:\n",
            " destination             0\n",
            "passanger               0\n",
            "weather                 0\n",
            "temperature             0\n",
            "time                    0\n",
            "coupon                  0\n",
            "expiration              0\n",
            "gender                  0\n",
            "age                     0\n",
            "maritalStatus           0\n",
            "has_children            0\n",
            "education               0\n",
            "occupation              0\n",
            "income                  0\n",
            "car                     0\n",
            "Bar                     0\n",
            "CoffeeHouse             0\n",
            "CarryAway               0\n",
            "RestaurantLessThan20    0\n",
            "Restaurant20To50        0\n",
            "toCoupon_GEQ5min        0\n",
            "toCoupon_GEQ15min       0\n",
            "toCoupon_GEQ25min       0\n",
            "direction_same          0\n",
            "direction_opp           0\n",
            "dtype: int64\n",
            "test data:\n",
            " destination             0\n",
            "passanger               0\n",
            "weather                 0\n",
            "temperature             0\n",
            "time                    0\n",
            "coupon                  0\n",
            "expiration              0\n",
            "gender                  0\n",
            "age                     0\n",
            "maritalStatus           0\n",
            "has_children            0\n",
            "education               0\n",
            "occupation              0\n",
            "income                  0\n",
            "car                     0\n",
            "Bar                     0\n",
            "CoffeeHouse             0\n",
            "CarryAway               0\n",
            "RestaurantLessThan20    0\n",
            "Restaurant20To50        0\n",
            "toCoupon_GEQ5min        0\n",
            "toCoupon_GEQ15min       0\n",
            "toCoupon_GEQ25min       0\n",
            "direction_same          0\n",
            "direction_opp           0\n",
            "dtype: int64\n"
          ]
        }
      ]
    },
    {
      "cell_type": "code",
      "source": [
        "from sklearn.preprocessing import LabelEncoder\n",
        "\n",
        "# Encode non-numeric columns\n",
        "label_encoder = LabelEncoder()\n",
        "for col in non_numeric_column:\n",
        "    X_train[col] = label_encoder.fit_transform(X_train[col].astype(str))\n",
        "    X_test[col] = label_encoder.transform(X_test[col].astype(str))\n"
      ],
      "metadata": {
        "id": "HIz_B8sXwnCO"
      },
      "execution_count": 78,
      "outputs": []
    },
    {
      "cell_type": "code",
      "source": [
        "# missing values ko fill kiya\n",
        "X_train.fillna(0, inplace=True)\n",
        "X_test.fillna(0, inplace=True)\n"
      ],
      "metadata": {
        "id": "no44RUtFwnFV"
      },
      "execution_count": 73,
      "outputs": []
    },
    {
      "cell_type": "code",
      "source": [
        "from sklearn.preprocessing import LabelEncoder\n",
        "\n",
        "# Encode non-numeric columns\n",
        "label_encoder = LabelEncoder()\n",
        "for col in non_numeric_cols:\n",
        "    X_train[col] = label_encoder.fit_transform(X_train[col].astype(str))\n",
        "    X_test[col] = label_encoder.transform(X_test[col].astype(str))"
      ],
      "metadata": {
        "id": "snN3cd4H1tPC"
      },
      "execution_count": 79,
      "outputs": []
    },
    {
      "cell_type": "code",
      "source": [
        "X_train.fillna(0, inplace=True)\n",
        "X_test.fillna(0, inplace=True)"
      ],
      "metadata": {
        "id": "p43ysaVE1v4-"
      },
      "execution_count": 80,
      "outputs": []
    },
    {
      "cell_type": "code",
      "source": [
        "from sklearn.ensemble import RandomForestClassifier\n",
        "from sklearn.metrics import classification_report, confusion_matrix\n",
        "\n",
        "#random forest classifier ko initialize kiya\n",
        "model = RandomForestClassifier(random_state=42)\n",
        "\n",
        "# Fit the model\n",
        "model.fit(X_train, y_train)\n",
        "\n",
        "# Predictions\n",
        "y_pred = model.predict(X_test)\n",
        "\n",
        "# Evaluate the model\n",
        "print(\"Classification Report (Before Balancing):\\n\", classification_report(y_test, y_pred))\n",
        "print(\"Confusion Matrix (Before Balancing):\\n\", confusion_matrix(y_test, y_pred))\n"
      ],
      "metadata": {
        "colab": {
          "base_uri": "https://localhost:8080/"
        },
        "id": "4rgVx_vTwnI9",
        "outputId": "aba3403c-83fd-4b64-bf42-46575f82d14e"
      },
      "execution_count": 81,
      "outputs": [
        {
          "output_type": "stream",
          "name": "stdout",
          "text": [
            "Classification Report (Before Balancing):\n",
            "               precision    recall  f1-score   support\n",
            "\n",
            "           0       0.73      0.65      0.69      1649\n",
            "           1       0.75      0.81      0.78      2157\n",
            "\n",
            "    accuracy                           0.74      3806\n",
            "   macro avg       0.74      0.73      0.73      3806\n",
            "weighted avg       0.74      0.74      0.74      3806\n",
            "\n",
            "Confusion Matrix (Before Balancing):\n",
            " [[1069  580]\n",
            " [ 403 1754]]\n"
          ]
        }
      ]
    },
    {
      "cell_type": "code",
      "source": [
        "# Apply SMOTE to balance the classes in the training set\n",
        "smote = SMOTE(random_state=42)\n",
        "X_resampled, y_resampled = smote.fit_resample(X_train, y_train)\n",
        "\n",
        "# classifier ko train kiya\n",
        "model.fit(X_resampled, y_resampled)\n",
        "\n",
        "# prediction\n",
        "y_pred_smote = model.predict(X_test)\n",
        "\n",
        "# Evaluation\n",
        "print(\"Classification Report (After SMOTE):\\n\", classification_report(y_test, y_pred_smote))\n",
        "print(\"Confusion Matrix (After SMOTE):\\n\", confusion_matrix(y_test, y_pred_smote))\n"
      ],
      "metadata": {
        "colab": {
          "base_uri": "https://localhost:8080/"
        },
        "id": "gHJbxOFfxFKM",
        "outputId": "578571eb-7fe5-4f1c-d309-952fe9b0b3e4"
      },
      "execution_count": 82,
      "outputs": [
        {
          "output_type": "stream",
          "name": "stdout",
          "text": [
            "Classification Report (After SMOTE):\n",
            "               precision    recall  f1-score   support\n",
            "\n",
            "           0       0.70      0.68      0.69      1649\n",
            "           1       0.76      0.78      0.77      2157\n",
            "\n",
            "    accuracy                           0.73      3806\n",
            "   macro avg       0.73      0.73      0.73      3806\n",
            "weighted avg       0.73      0.73      0.73      3806\n",
            "\n",
            "Confusion Matrix (After SMOTE):\n",
            " [[1116  533]\n",
            " [ 484 1673]]\n"
          ]
        }
      ]
    },
    {
      "cell_type": "code",
      "source": [
        "# Applying undersampling to balance the classes in the training set\n",
        "undersample = RandomUnderSampler(random_state=42)\n",
        "X_resampled, y_resampled = undersample.fit_resample(X_train, y_train)\n",
        "\n",
        "# Training of classifier again on the undersampled data\n",
        "model.fit(X_resampled, y_resampled)\n",
        "\n",
        "# Prediction\n",
        "y_pred_undersample = model.predict(X_test)\n",
        "\n",
        "# Evaluation\n",
        "print(\"Classification Report (After Undersampling):\\n\", classification_report(y_test, y_pred_undersample))\n",
        "print(\"Confusion Matrix (After Undersampling):\\n\", confusion_matrix(y_test, y_pred_undersample))\n"
      ],
      "metadata": {
        "colab": {
          "base_uri": "https://localhost:8080/"
        },
        "id": "9325dlBbxFHa",
        "outputId": "f34565ca-1915-4cf4-e55a-06cb8b670c53"
      },
      "execution_count": 56,
      "outputs": [
        {
          "output_type": "stream",
          "name": "stdout",
          "text": [
            "Classification Report (After Undersampling):\n",
            "               precision    recall  f1-score   support\n",
            "\n",
            "           0       0.68      0.73      0.71      1649\n",
            "           1       0.78      0.74      0.76      2157\n",
            "\n",
            "    accuracy                           0.74      3806\n",
            "   macro avg       0.73      0.74      0.73      3806\n",
            "weighted avg       0.74      0.74      0.74      3806\n",
            "\n",
            "Confusion Matrix (After Undersampling):\n",
            " [[1212  437]\n",
            " [ 565 1592]]\n"
          ]
        }
      ]
    },
    {
      "cell_type": "code",
      "source": [
        "\n",
        "def print_comparison(before, after, method_name):\n",
        "    print(f\"--- {method_name} ---\")\n",
        "    print(f\"Classification Report (Before):\\n\", before[0])\n",
        "    print(f\"Confusion Matrix (Before):\\n\", before[1])\n",
        "    print(f\"Classification Report (After):\\n\", after[0])\n",
        "    print(f\"Confusion Matrix (After):\\n\", after[1])\n",
        "\n",
        "#before_balancing\n",
        "before_smote= (classification_report(y_test, y_pred), confusion_matrix(y_test, y_pred))\n",
        "#after_smote\n",
        "after_smote = (classification_report(y_test, y_pred_smote), confusion_matrix(y_test, y_pred_smote))\n",
        "\n",
        "# After Undersampling\n",
        "after_undersample = (classification_report(y_test, y_pred_undersample), confusion_matrix(y_test, y_pred_undersample))\n",
        "\n",
        "# Compare results\n",
        "print_comparison(before, after_smote, \"SMOTE\")\n",
        "print_comparison(before, after_undersample, \"Undersampling\")\n"
      ],
      "metadata": {
        "colab": {
          "base_uri": "https://localhost:8080/"
        },
        "id": "xHaF572RxFEl",
        "outputId": "f325d3a3-41b9-424f-bdd0-6c5c3de29e47"
      },
      "execution_count": 68,
      "outputs": [
        {
          "output_type": "stream",
          "name": "stdout",
          "text": [
            "--- SMOTE ---\n",
            "Classification Report (Before):\n",
            "               precision    recall  f1-score   support\n",
            "\n",
            "           0       0.73      0.64      0.69      1649\n",
            "           1       0.75      0.82      0.78      2157\n",
            "\n",
            "    accuracy                           0.74      3806\n",
            "   macro avg       0.74      0.73      0.73      3806\n",
            "weighted avg       0.74      0.74      0.74      3806\n",
            "\n",
            "Confusion Matrix (Before):\n",
            " [[1063  586]\n",
            " [ 391 1766]]\n",
            "Classification Report (After):\n",
            "               precision    recall  f1-score   support\n",
            "\n",
            "           0       0.70      0.67      0.69      1649\n",
            "           1       0.76      0.78      0.77      2157\n",
            "\n",
            "    accuracy                           0.73      3806\n",
            "   macro avg       0.73      0.73      0.73      3806\n",
            "weighted avg       0.73      0.73      0.73      3806\n",
            "\n",
            "Confusion Matrix (After):\n",
            " [[1107  542]\n",
            " [ 470 1687]]\n",
            "--- Undersampling ---\n",
            "Classification Report (Before):\n",
            "               precision    recall  f1-score   support\n",
            "\n",
            "           0       0.73      0.64      0.69      1649\n",
            "           1       0.75      0.82      0.78      2157\n",
            "\n",
            "    accuracy                           0.74      3806\n",
            "   macro avg       0.74      0.73      0.73      3806\n",
            "weighted avg       0.74      0.74      0.74      3806\n",
            "\n",
            "Confusion Matrix (Before):\n",
            " [[1063  586]\n",
            " [ 391 1766]]\n",
            "Classification Report (After):\n",
            "               precision    recall  f1-score   support\n",
            "\n",
            "           0       0.68      0.73      0.71      1649\n",
            "           1       0.78      0.74      0.76      2157\n",
            "\n",
            "    accuracy                           0.74      3806\n",
            "   macro avg       0.73      0.74      0.73      3806\n",
            "weighted avg       0.74      0.74      0.74      3806\n",
            "\n",
            "Confusion Matrix (After):\n",
            " [[1212  437]\n",
            " [ 565 1592]]\n"
          ]
        }
      ]
    },
    {
      "cell_type": "code",
      "source": [
        "\n",
        "sns.countplot(x=y_resampled)\n",
        "plt.title('Class Distribution After SMOTE')\n",
        "plt.show()\n",
        "\n",
        "\n",
        "sns.countplot(x=y_resampled)\n",
        "plt.title('Class Distribution After Undersampling')\n",
        "plt.show()\n"
      ],
      "metadata": {
        "colab": {
          "base_uri": "https://localhost:8080/",
          "height": 927
        },
        "id": "ElLvzswZxFBs",
        "outputId": "d5164c47-170b-41d0-ebde-79b730c2a4a7"
      },
      "execution_count": 66,
      "outputs": [
        {
          "output_type": "display_data",
          "data": {
            "text/plain": [
              "<Figure size 640x480 with 1 Axes>"
            ],
            "image/png": "[encoded data removed]"
          },
          "metadata": {}
        },
        {
          "output_type": "display_data",
          "data": {
            "text/plain": [
              "<Figure size 640x480 with 1 Axes>"
            ],
            "image/png": "[encoded data removed]"
          },
          "metadata": {}
        }
      ]
    },
    {
      "cell_type": "code",
      "source": [],
      "metadata": {
        "id": "7dsNFDJxxE_D"
      },
      "execution_count": null,
      "outputs": []
    },
    {
      "cell_type": "code",
      "source": [],
      "metadata": {
        "id": "oxns05j2xE8R"
      },
      "execution_count": null,
      "outputs": []
    }
  ]
}