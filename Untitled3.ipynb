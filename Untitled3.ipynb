{
  "nbformat": 4,
  "nbformat_minor": 0,
  "metadata": {
    "colab": {
      "provenance": []
    },
    "kernelspec": {
      "name": "python3",
      "display_name": "Python 3"
    },
    "language_info": {
      "name": "python"
    }
  },
  "cells": [
    {
      "cell_type": "code",
      "execution_count": 4,
      "metadata": {
        "id": "P8NXkPvJ-P2Y"
      },
      "outputs": [],
      "source": [
        "import pandas as pd\n",
        "from sklearn.preprocessing import LabelEncoder\n",
        "df=pd.read_csv('/content/in-vehicle-coupon-recommendation.csv')\n",
        "\n"
      ]
    },
    {
      "cell_type": "code",
      "source": [
        "categorical_columns = df.select_dtypes(include=['object']).columns.tolist()"
      ],
      "metadata": {
        "id": "IRKM8yxjcEzc"
      },
      "execution_count": 6,
      "outputs": []
    },
    {
      "cell_type": "code",
      "source": [
        "\n",
        "label_encoder = LabelEncoder()\n",
        "\n",
        "\n",
        "for col in categorical_columns:\n",
        "    df[col] = label_encoder.fit_transform(df[col])\n",
        "\n",
        "print(df.head())"
      ],
      "metadata": {
        "colab": {
          "base_uri": "https://localhost:8080/"
        },
        "id": "bF-RhagycE2P",
        "outputId": "6191ff6a-69b2-4d61-b23b-43068cc8046b"
      },
      "execution_count": 8,
      "outputs": [
        {
          "output_type": "stream",
          "name": "stdout",
          "text": [
            "   destination  passanger  weather  temperature  time  coupon  expiration  \\\n",
            "0            1          0        2           55     2       4           0   \n",
            "1            1          1        2           80     0       2           1   \n",
            "2            1          1        2           80     0       1           1   \n",
            "3            1          1        2           80     2       2           1   \n",
            "4            1          1        2           80     2       2           0   \n",
            "\n",
            "   gender  age  maritalStatus  ...  CoffeeHouse  CarryAway  \\\n",
            "0       0    0              3  ...            4          5   \n",
            "1       0    0              3  ...            4          5   \n",
            "2       0    0              3  ...            4          5   \n",
            "3       0    0              3  ...            4          5   \n",
            "4       0    0              3  ...            4          5   \n",
            "\n",
            "   RestaurantLessThan20  Restaurant20To50  toCoupon_GEQ5min  \\\n",
            "0                     1                 0                 1   \n",
            "1                     1                 0                 1   \n",
            "2                     1                 0                 1   \n",
            "3                     1                 0                 1   \n",
            "4                     1                 0                 1   \n",
            "\n",
            "   toCoupon_GEQ15min  toCoupon_GEQ25min  direction_same  direction_opp  Y  \n",
            "0                  0                  0               0              1  1  \n",
            "1                  0                  0               0              1  0  \n",
            "2                  1                  0               0              1  1  \n",
            "3                  1                  0               0              1  0  \n",
            "4                  1                  0               0              1  0  \n",
            "\n",
            "[5 rows x 26 columns]\n"
          ]
        }
      ]
    },
    {
      "cell_type": "code",
      "source": [
        "hot_encoding = pd.get_dummies(df, drop_first=True)\n",
        "\n",
        "\n",
        "print(hot_encoding.head())"
      ],
      "metadata": {
        "colab": {
          "base_uri": "https://localhost:8080/"
        },
        "id": "u8RcAH_scE5W",
        "outputId": "58485b6f-fc66-47f1-afe4-eb3f8f3dc8d8"
      },
      "execution_count": 9,
      "outputs": [
        {
          "output_type": "stream",
          "name": "stdout",
          "text": [
            "   destination  passanger  weather  temperature  time  coupon  expiration  \\\n",
            "0            1          0        2           55     2       4           0   \n",
            "1            1          1        2           80     0       2           1   \n",
            "2            1          1        2           80     0       1           1   \n",
            "3            1          1        2           80     2       2           1   \n",
            "4            1          1        2           80     2       2           0   \n",
            "\n",
            "   gender  age  maritalStatus  ...  CoffeeHouse  CarryAway  \\\n",
            "0       0    0              3  ...            4          5   \n",
            "1       0    0              3  ...            4          5   \n",
            "2       0    0              3  ...            4          5   \n",
            "3       0    0              3  ...            4          5   \n",
            "4       0    0              3  ...            4          5   \n",
            "\n",
            "   RestaurantLessThan20  Restaurant20To50  toCoupon_GEQ5min  \\\n",
            "0                     1                 0                 1   \n",
            "1                     1                 0                 1   \n",
            "2                     1                 0                 1   \n",
            "3                     1                 0                 1   \n",
            "4                     1                 0                 1   \n",
            "\n",
            "   toCoupon_GEQ15min  toCoupon_GEQ25min  direction_same  direction_opp  Y  \n",
            "0                  0                  0               0              1  1  \n",
            "1                  0                  0               0              1  0  \n",
            "2                  1                  0               0              1  1  \n",
            "3                  1                  0               0              1  0  \n",
            "4                  1                  0               0              1  0  \n",
            "\n",
            "[5 rows x 26 columns]\n"
          ]
        }
      ]
    },
    {
      "cell_type": "code",
      "source": [
        "\n",
        "\n",
        "# my target column\n",
        "target_column = 'Y'\n",
        "\n",
        "def evaluate_model(df, target_column):\n",
        "    X = df.drop(columns=[target_column])\n",
        "    y = df[target_column]\n",
        "\n",
        "    # data ko split kr diya training or tests set me\n",
        "    X_train, X_test, y_train, y_test = train_test_split(X, y, test_size=0.3, random_state=42)\n",
        "\n",
        "    # Logistic Regression Model\n",
        "    model = LogisticRegression(max_iter=1000, class_weight='balanced')\n",
        "    model.fit(X_train, y_train)\n",
        "\n",
        "    # predictions and accuracy ka calculation\n",
        "    predictions = model.predict(X_test)\n",
        "    return accuracy_score(y_test, predictions)\n",
        "\n",
        "\n",
        "label_encoded = evaluate_model(hot_encoding, target_column)\n",
        "hot_encoded = evaluate_model(hot_encoding, target_column)\n",
        "\n",
        "# result\n",
        "print(f\"Accuracy by Label Encoding: {label_encoded}\")\n",
        "print(f\"Accuracy by One-Hot Encoding: {hot_encoded}\")\n"
      ],
      "metadata": {
        "colab": {
          "base_uri": "https://localhost:8080/"
        },
        "id": "Os2e6VzgdfA_",
        "outputId": "6f06664f-af29-41da-ad51-9fc70c91bc44"
      },
      "execution_count": 26,
      "outputs": [
        {
          "output_type": "stream",
          "name": "stdout",
          "text": [
            "Accuracy by Label Encoding: 0.6195480819758277\n",
            "Accuracy by One-Hot Encoding: 0.6195480819758277\n"
          ]
        }
      ]
    },
    {
      "cell_type": "code",
      "source": [],
      "metadata": {
        "id": "r_-SvBCBfeVQ"
      },
      "execution_count": null,
      "outputs": []
    },
    {
      "cell_type": "code",
      "source": [
        "df.columns"
      ],
      "metadata": {
        "colab": {
          "base_uri": "https://localhost:8080/"
        },
        "id": "1CFUTR6qfeXE",
        "outputId": "815e6485-82d4-4937-a67d-70a0fa95eafa"
      },
      "execution_count": 22,
      "outputs": [
        {
          "output_type": "execute_result",
          "data": {
            "text/plain": [
              "Index(['destination', 'passanger', 'weather', 'temperature', 'time', 'coupon',\n",
              "       'expiration', 'gender', 'age', 'maritalStatus', 'has_children',\n",
              "       'education', 'occupation', 'income', 'car', 'Bar', 'CoffeeHouse',\n",
              "       'CarryAway', 'RestaurantLessThan20', 'Restaurant20To50',\n",
              "       'toCoupon_GEQ5min', 'toCoupon_GEQ15min', 'toCoupon_GEQ25min',\n",
              "       'direction_same', 'direction_opp', 'Y'],\n",
              "      dtype='object')"
            ]
          },
          "metadata": {},
          "execution_count": 22
        }
      ]
    },
    {
      "cell_type": "code",
      "source": [],
      "metadata": {
        "id": "78eYSrJyfeZf"
      },
      "execution_count": null,
      "outputs": []
    },
    {
      "cell_type": "code",
      "source": [],
      "metadata": {
        "id": "jjMPlogbfeb-"
      },
      "execution_count": null,
      "outputs": []
    },
    {
      "cell_type": "code",
      "source": [],
      "metadata": {
        "id": "oRou2FT4fed6"
      },
      "execution_count": null,
      "outputs": []
    },
    {
      "cell_type": "code",
      "source": [],
      "metadata": {
        "id": "78mftSaNfehL"
      },
      "execution_count": null,
      "outputs": []
    }
  ]
}